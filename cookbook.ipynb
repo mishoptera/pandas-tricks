{
 "cells": [
  {
   "cell_type": "markdown",
   "metadata": {},
   "source": [
    "# Data Challenge"
   ]
  },
  {
   "cell_type": "markdown",
   "metadata": {},
   "source": [
    "# Summary"
   ]
  },
  {
   "cell_type": "markdown",
   "metadata": {},
   "source": [
    "### Problem Statement"
   ]
  },
  {
   "cell_type": "code",
   "execution_count": null,
   "metadata": {},
   "outputs": [],
   "source": []
  },
  {
   "cell_type": "markdown",
   "metadata": {},
   "source": [
    "### Outline of Analysis Steps"
   ]
  },
  {
   "cell_type": "code",
   "execution_count": null,
   "metadata": {},
   "outputs": [],
   "source": []
  },
  {
   "cell_type": "code",
   "execution_count": null,
   "metadata": {},
   "outputs": [],
   "source": []
  },
  {
   "cell_type": "markdown",
   "metadata": {},
   "source": [
    "# Data Prep"
   ]
  },
  {
   "cell_type": "markdown",
   "metadata": {},
   "source": [
    "### Load data and libraries"
   ]
  },
  {
   "cell_type": "code",
   "execution_count": null,
   "metadata": {},
   "outputs": [],
   "source": []
  },
  {
   "cell_type": "markdown",
   "metadata": {},
   "source": [
    "## First glimpse of what's going on"
   ]
  },
  {
   "cell_type": "markdown",
   "metadata": {},
   "source": [
    "### Data Cleaning"
   ]
  },
  {
   "cell_type": "markdown",
   "metadata": {},
   "source": [
    "Based on the initial glimpse from above and looking at the unique values for each column, it looks like the following datatypes need to be modified:\n",
    "- Channel and Customer should not be treated as ints\n",
    "- All other columns should be ints\n",
    "- Convert Year column values of '08/01/2016' to just 2016\n",
    "\n",
    "Additionally, even though there are 801 rows, there are not 801 non-null values for all columns. We'll throw out those rows and see how many rows we lose in total, as well as check for duplcates."
   ]
  },
  {
   "cell_type": "code",
   "execution_count": 1,
   "metadata": {},
   "outputs": [],
   "source": [
    "cust = cust.dropna()\n",
    "cust = cust.drop_duplicates()\n",
    "cust = cust[cust.Fresh != 'unrecorded']\n",
    "cust = cust[cust.Milk != 'unrecorded']\n",
    "cust = cust[cust.Grocery != 'unrecorded']\n",
    "cust = cust[cust.Frozen != 'unrecorded']\n",
    "cust = cust[cust.Detergents_Paper != 'unrecorded']\n",
    "cust = cust[cust.Delicassen != 'unrecorded']\n",
    "print(\"Number of rows: \", str(cust.shape[0]))"
   ]
  },
  {
   "cell_type": "code",
   "execution_count": null,
   "metadata": {},
   "outputs": [],
   "source": [
    "# formatting the Year column to be more uniform\n",
    "def fixYear(year):\n",
    "    \"\"\"\n",
    "    a simple function to convert formatting for the year column\n",
    "    \"\"\"\n",
    "    if year == '08/01/2016':\n",
    "        new_year = '2016'\n",
    "    else:\n",
    "        new_year = year\n",
    "    return new_year\n",
    "\n",
    "cust['Year'] = cust.Year.apply(fixYear)\n",
    "cust.Year.unique()"
   ]
  },
  {
   "cell_type": "code",
   "execution_count": null,
   "metadata": {},
   "outputs": [],
   "source": [
    "# as above but a list comprehesion\n",
    "cust['NextYear'] = [row + 1 for row in cust['Year']]"
   ]
  },
  {
   "cell_type": "code",
   "execution_count": null,
   "metadata": {},
   "outputs": [],
   "source": [
    "# datatype conversions\n",
    "cust.Channel = cust.Channel.astype(str)\n",
    "cust.Customer = cust.Customer.astype(str)\n",
    "cust.Fresh = cust.Fresh.astype(int)\n",
    "cust.Milk = cust.Milk.astype(int)\n",
    "cust.Grocery = cust.Grocery.astype(int)\n",
    "cust.Frozen = cust.Frozen.astype(int)\n",
    "cust.Detergents_Paper = cust.Detergents_Paper.astype(int)\n",
    "cust.Delicassen = cust.Delicassen.astype(int)\n",
    "cust.info()"
   ]
  },
  {
   "cell_type": "markdown",
   "metadata": {},
   "source": [
    "### New Feature Creation"
   ]
  },
  {
   "cell_type": "code",
   "execution_count": 1,
   "metadata": {},
   "outputs": [],
   "source": [
    "# total spending\n",
    "cust['Total'] = cust.apply(lambda x: x['Fresh'] + x['Milk'] + x['Grocery'] + \n",
    "                           x['Detergents_Paper'] + x['Delicassen'], axis=1)\n",
    "cust.head()"
   ]
  },
  {
   "cell_type": "markdown",
   "metadata": {},
   "source": [
    "# Exploratory Data Analysis"
   ]
  },
  {
   "cell_type": "markdown",
   "metadata": {},
   "source": [
    "### Descriptive stats\n"
   ]
  },
  {
   "cell_type": "markdown",
   "metadata": {},
   "source": [
    "A little more detail here"
   ]
  },
  {
   "cell_type": "code",
   "execution_count": null,
   "metadata": {},
   "outputs": [],
   "source": [
    "print('TOTAL SPENDING')\n",
    "print('\\nHotel & Resturants:')\n",
    "print(cust.Total[(cust.Channel == '1')].describe())\n",
    "print('\\nRetail:')\n",
    "print(cust.Total[(cust.Channel == '2')].describe())\n",
    "\n",
    "print('\\n\\nFRESH')\n",
    "print('\\nHotel & Resturants:')\n",
    "print(cust.Fresh[(cust.Channel == '1')].describe())\n",
    "print('\\nRetail:')\n",
    "print(cust.Fresh[(cust.Channel == '2')].describe())\n",
    "\n",
    "print('\\n\\nMILK')\n",
    "print('\\nHotel & Resturants:')\n",
    "print(cust.Milk[(cust.Channel == '1')].describe())\n",
    "print('\\nRetail:')\n",
    "print(cust.Milk[(cust.Channel == '2')].describe())\n",
    "\n",
    "print('\\n\\nGROCERY')\n",
    "print('\\nHotel & Resturants:')\n",
    "print(cust.Grocery[(cust.Channel == '1')].describe())\n",
    "print('\\nRetail:')\n",
    "print(cust.Grocery[(cust.Channel == '2')].describe())\n",
    "\n",
    "print('\\n\\nFROZEN')\n",
    "print('\\nHotel & Resturants:')\n",
    "print(cust.Frozen[(cust.Channel == '1')].describe())\n",
    "print('\\nRetail:')\n",
    "print(cust.Frozen[(cust.Channel == '2')].describe())\n",
    "\n",
    "print('\\n\\nDETERGENTS & PAPER:')\n",
    "print('\\nHotel & Resturants:')\n",
    "print(cust.Detergents_Paper[(cust.Channel == '1')].describe())\n",
    "print('\\nRetail:')\n",
    "print(cust.Detergents_Paper[(cust.Channel == '2')].describe())\n",
    "\n",
    "print('\\n\\nDELICASSEN')\n",
    "print('\\nHotel & Resturants:')\n",
    "print(cust.Delicassen[(cust.Channel == '1')].describe())\n",
    "print('\\nRetail:')\n",
    "print(cust.Delicassen[(cust.Channel == '2')].describe())"
   ]
  },
  {
   "cell_type": "markdown",
   "metadata": {},
   "source": [
    "There are 503 records for hotel/restaurants versus 267 for retail (including both 2016 and 2017). However, mean total spending for retail is greater (38698 vs 21681).\n",
    "\n",
    "Hotels/restaurants have higher means for:\n",
    "- Fresh (12898 vs 7495)\n",
    "- Frozen (3332 vs 1443)\n",
    "\n",
    "Retail has a higher mean for \n",
    "- Milk (9223 vs 3083)\n",
    "- Grocery (14065 vs 3645)\n",
    "- Detergents_Paper (6454 vs 758)\n",
    "- Delicassen (1460 vs 1295)"
   ]
  },
  {
   "cell_type": "markdown",
   "metadata": {},
   "source": [
    "### Pairplots"
   ]
  },
  {
   "cell_type": "code",
   "execution_count": null,
   "metadata": {},
   "outputs": [],
   "source": [
    "import seaborn as sns\n",
    "import matplotlib.pyplot as plt\n",
    "from scipy import stats\n",
    "\n",
    "# Paired plot comparing Channel (hotels/restaurants versus retail)\n",
    "sns.set(style = 'ticks', color_codes = True)\n",
    "sns.pairplot(cust, \n",
    "             hue = 'Channel', \n",
    "             palette = \"Paired\", \n",
    "             vars = ['Fresh', 'Milk', 'Grocery', 'Frozen', 'Detergents_Paper', 'Delicassen'])"
   ]
  },
  {
   "cell_type": "code",
   "execution_count": 3,
   "metadata": {},
   "outputs": [],
   "source": [
    "# Plots to look for outliers"
   ]
  },
  {
   "cell_type": "code",
   "execution_count": 28,
   "metadata": {},
   "outputs": [
    {
     "ename": "NameError",
     "evalue": "name 'books' is not defined",
     "output_type": "error",
     "traceback": [
      "\u001b[0;31m---------------------------------------------------------------------------\u001b[0m",
      "\u001b[0;31mNameError\u001b[0m                                 Traceback (most recent call last)",
      "\u001b[0;32m<ipython-input-28-57e27b31c3c1>\u001b[0m in \u001b[0;36m<module>\u001b[0;34m\u001b[0m\n\u001b[1;32m      8\u001b[0m \u001b[0msns\u001b[0m\u001b[0;34m.\u001b[0m\u001b[0mset\u001b[0m\u001b[0;34m(\u001b[0m\u001b[0mcolor_codes\u001b[0m\u001b[0;34m=\u001b[0m\u001b[0;32mTrue\u001b[0m\u001b[0;34m)\u001b[0m\u001b[0;34m\u001b[0m\u001b[0;34m\u001b[0m\u001b[0m\n\u001b[1;32m      9\u001b[0m \u001b[0;34m\u001b[0m\u001b[0m\n\u001b[0;32m---> 10\u001b[0;31m \u001b[0msns\u001b[0m\u001b[0;34m.\u001b[0m\u001b[0mboxplot\u001b[0m\u001b[0;34m(\u001b[0m\u001b[0mx\u001b[0m\u001b[0;34m=\u001b[0m\u001b[0;34m\"total_price_bins\"\u001b[0m\u001b[0;34m,\u001b[0m \u001b[0my\u001b[0m\u001b[0;34m=\u001b[0m\u001b[0;34m\"total_price\"\u001b[0m\u001b[0;34m,\u001b[0m \u001b[0mhue\u001b[0m\u001b[0;34m=\u001b[0m\u001b[0;34m\"sold_true\"\u001b[0m\u001b[0;34m,\u001b[0m \u001b[0mdata\u001b[0m\u001b[0;34m=\u001b[0m\u001b[0mbooks\u001b[0m\u001b[0;34m[\u001b[0m\u001b[0;34m(\u001b[0m\u001b[0mbooks\u001b[0m\u001b[0;34m.\u001b[0m\u001b[0mprice\u001b[0m \u001b[0;34m<\u001b[0m \u001b[0;36m40\u001b[0m\u001b[0;34m)\u001b[0m\u001b[0;34m]\u001b[0m\u001b[0;34m,\u001b[0m \u001b[0mpalette\u001b[0m\u001b[0;34m=\u001b[0m\u001b[0;34m\"Set2\"\u001b[0m\u001b[0;34m)\u001b[0m\u001b[0;34m\u001b[0m\u001b[0;34m\u001b[0m\u001b[0m\n\u001b[0m",
      "\u001b[0;31mNameError\u001b[0m: name 'books' is not defined"
     ]
    }
   ],
   "source": [
    "# box plots\n",
    "import numpy as np\n",
    "import pandas as pd\n",
    "import seaborn as sns\n",
    "import matplotlib.pyplot as plt\n",
    "from scipy import stats\n",
    "\n",
    "sns.set(color_codes=True)\n",
    "\n",
    "sns.boxplot(x=\"total_price_bins\", y=\"total_price\", hue=\"sold_true\", data=books[(books.price < 40)], palette=\"Set2\")"
   ]
  },
  {
   "cell_type": "code",
   "execution_count": 4,
   "metadata": {},
   "outputs": [],
   "source": [
    "# Scatterplots\n",
    "sns.set_style(\"ticks\")\n",
    "rest_plot = sns.scatterplot(x=\"INSPECTION TYPE_y\", y=\"SCORE\", hue = \"CRITICAL FLAG\", style=\"CRITICAL FLAG\", data=re_ins)\n",
    "plt.xlabel('Number of inspections in a single year')\n",
    "plt.ylabel('Score')\n",
    "rest_plot"
   ]
  },
  {
   "cell_type": "code",
   "execution_count": null,
   "metadata": {},
   "outputs": [],
   "source": [
    "# side by side scatter plots\n",
    "#Total price against date color coded by sold or for sale\n",
    "# There seem to be a higher proporiton of free shipping purchases to non free shipping purchases in the sold graph!\n",
    "%matplotlib inline\n",
    "import seaborn as sns\n",
    "book_plot = sns.relplot(x=\"posted\", y=\"price\", col=\"free_shipping\", hue = \"sold\", style=\"sold\", data=books)\n",
    "book_plot.set(xlim=(datetime.date(2015, 1, 1), datetime.date(2019, 8, 1)), ylim=(0,60))\n",
    "book_plot"
   ]
  },
  {
   "cell_type": "code",
   "execution_count": 1,
   "metadata": {},
   "outputs": [
    {
     "ename": "NameError",
     "evalue": "name 'vt' is not defined",
     "output_type": "error",
     "traceback": [
      "\u001b[0;31m---------------------------------------------------------------------------\u001b[0m",
      "\u001b[0;31mNameError\u001b[0m                                 Traceback (most recent call last)",
      "\u001b[0;32m<ipython-input-1-6a313a0c43ec>\u001b[0m in \u001b[0;36m<module>\u001b[0;34m\u001b[0m\n\u001b[1;32m     14\u001b[0m \u001b[0;34m\u001b[0m\u001b[0m\n\u001b[1;32m     15\u001b[0m \u001b[0;31m# another example\u001b[0m\u001b[0;34m\u001b[0m\u001b[0;34m\u001b[0m\u001b[0;34m\u001b[0m\u001b[0m\n\u001b[0;32m---> 16\u001b[0;31m \u001b[0mhist\u001b[0m \u001b[0;34m=\u001b[0m \u001b[0mvt\u001b[0m\u001b[0;34m[\u001b[0m\u001b[0;34m'city'\u001b[0m\u001b[0;34m]\u001b[0m\u001b[0;34m.\u001b[0m\u001b[0mhist\u001b[0m\u001b[0;34m(\u001b[0m\u001b[0;34m)\u001b[0m\u001b[0;34m\u001b[0m\u001b[0;34m\u001b[0m\u001b[0m\n\u001b[0m",
      "\u001b[0;31mNameError\u001b[0m: name 'vt' is not defined"
     ]
    }
   ],
   "source": [
    "# Histograms\n",
    "import numpy as np\n",
    "import pandas as pd\n",
    "import seaborn as sns\n",
    "import matplotlib.pyplot as plt\n",
    "from scipy import stats\n",
    "\n",
    "sns.set(color_codes=True)\n",
    "\n",
    "# sns.distplot(x, bins=20, kde=False, rug=True);\n",
    "# # Tweak using Matplotlib\n",
    "# plt.ylim(0, None)\n",
    "# plt.xlim(0, 60)\n",
    "\n",
    "# another example\n",
    "hist = vt['city'].hist()"
   ]
  },
  {
   "cell_type": "code",
   "execution_count": 6,
   "metadata": {},
   "outputs": [],
   "source": [
    "# Barplot"
   ]
  },
  {
   "cell_type": "code",
   "execution_count": 23,
   "metadata": {},
   "outputs": [
    {
     "data": {
      "image/png": "[encoded data removed]",
      "text/plain": [
       "<Figure size 640x480 with 2 Axes>"
      ]
     },
     "metadata": {},
     "output_type": "display_data"
    }
   ],
   "source": [
    "# Heatmap https://likegeeks.com/seaborn-heatmap-tutorial/\n",
    "import numpy as np\n",
    "import seaborn as sb\n",
    "import matplotlib.pyplot as plt\n",
    "\n",
    "fig=plt.figure(figsize=(8, 6), dpi= 80, facecolor='w', edgecolor='k')\n",
    "data = np.random.rand(4, 6)\n",
    "heat_map = sb.heatmap(data, cmap=\"YlGnBu\", annot=True)\n",
    "sb.set()\n",
    "plt.xlabel(\"Values on X axis\")\n",
    "plt.ylabel(\"Values on Y axis\")\n",
    "plt.show()"
   ]
  },
  {
   "cell_type": "code",
   "execution_count": 32,
   "metadata": {},
   "outputs": [
    {
     "data": {
      "image/png": "[encoded data removed]",
      "text/plain": [
       "<Figure size 432x288 with 1 Axes>"
      ]
     },
     "metadata": {},
     "output_type": "display_data"
    }
   ],
   "source": [
    "# lineplots with confidence intervals. https://seaborn.pydata.org/generated/seaborn.lineplot.html\n",
    "import seaborn as sns; sns.set()\n",
    "import matplotlib.pyplot as plt\n",
    "fmri = sns.load_dataset(\"fmri\")\n",
    "sns.set(style = 'ticks', color_codes = True)\n",
    "sns.set(color_codes=True)\n",
    "ax = sns.lineplot(x=\"timepoint\", y=\"signal\", ci = 95,\n",
    "                  hue=\"event\", style=\"event\", data=fmri, palette = \"bright\")"
   ]
  },
  {
   "cell_type": "code",
   "execution_count": 16,
   "metadata": {},
   "outputs": [],
   "source": [
    "# Colinearity"
   ]
  },
  {
   "cell_type": "markdown",
   "metadata": {},
   "source": [
    "# Asking some basic questions "
   ]
  },
  {
   "cell_type": "markdown",
   "metadata": {},
   "source": [
    "### Examples"
   ]
  },
  {
   "cell_type": "code",
   "execution_count": null,
   "metadata": {},
   "outputs": [],
   "source": [
    "## How many inspections per year are being done at restaurants?\n",
    "nyc['inspection_year'] = nyc['INSPECTION DATE'].map(lambda x: x.strftime('%Y'))\n",
    "nyc.groupby('inspection_year').size()\n",
    "\n",
    "# number of restaurants and the number of times they've been inspected\n",
    "rests = nyc.groupby('CAMIS')\n",
    "rests = rests.count()\n",
    "rests = rests.sort_values('uniqueID', ascending = False)\n",
    "rests = rests.rename(index=str, columns={\"uniqueID\": \"total_inspections\"})\n",
    "rests.drop(['DBA', 'BORO', 'BUILDING', 'STREET', 'ZIPCODE',\n",
    "       'PHONE', 'CUISINE DESCRIPTION', 'INSPECTION DATE', 'ACTION',\n",
    "       'VIOLATION CODE', 'VIOLATION DESCRIPTION', 'CRITICAL FLAG', 'SCORE',\n",
    "       'GRADE', 'GRADE DATE', 'RECORD DATE', 'INSPECTION TYPE', 'inspection_year'], axis=1, inplace=True)\n",
    "rests.reset_index(inplace = True)\n",
    "rests.info()\n",
    "\n",
    "# Why are some restaurants having so many inspections every year?!\n",
    "rest_by_year = nyc.groupby(['CAMIS', 'inspection_year', 'total_inspections'])\n",
    "rest_by_year = rest_by_year.count()\n",
    "rest_by_year = rest_by_year.sort_values(['total_inspections', 'CAMIS', 'inspection_year'], ascending = False)\n",
    "\n",
    "# What kind of inspections are being done?\n",
    "inspections = nyc.groupby('INSPECTION TYPE')\n",
    "inspections = inspections.count()\n",
    "inspections = inspections.sort_values('uniqueID', ascending = False)\n",
    "print(\"Number of inspection types: \", str(inspections.shape[0]))\n",
    "print(\"Total number of unique inspections: \", str(nyc.shape[0]))\n",
    "inspections\n",
    "\n",
    "# Grouping, counting, and sorting\n",
    "rest_by_year = re_ins.groupby(['CAMIS', 'inspection_year', 'total_inspections'])\n",
    "rest_by_year = rest_by_year.count()\n",
    "rest_by_year = rest_by_year.sort_values(['total_inspections', 'CAMIS', 'inspection_year'], ascending = False)\n",
    "rest_by_year\n",
    "\n",
    "# as above but also dropping columns and fixing index\n",
    "ins_per_year = nyc.groupby(['CAMIS', 'inspection_year', 'INSPECTION TYPE'])\n",
    "ins_per_year = ins_per_year.count()\n",
    "ins_per_year = ins_per_year.sort_values('PHONE', ascending = False)\n",
    "ins_per_year.drop(['DBA', 'BORO', 'BUILDING', 'STREET', 'ZIPCODE',\n",
    "       'uniqueID', 'CUISINE DESCRIPTION', 'INSPECTION DATE', 'ACTION',\n",
    "       'VIOLATION CODE', 'VIOLATION DESCRIPTION', 'CRITICAL FLAG', 'SCORE',\n",
    "       'GRADE', 'GRADE DATE', 'RECORD DATE'], axis=1, inplace=True)\n",
    "ins_per_year.reset_index(inplace = True)\n",
    "ins_per_year.info()"
   ]
  },
  {
   "cell_type": "markdown",
   "metadata": {},
   "source": [
    "### Joins"
   ]
  },
  {
   "cell_type": "code",
   "execution_count": null,
   "metadata": {},
   "outputs": [],
   "source": [
    "# Merging data if necessary\n",
    "# adding this as a column to dataframe for future use\n",
    "rests['CAMIS']=pd.to_numeric(rests['CAMIS'])\n",
    "nyc = pd.merge(nyc, rests, on='CAMIS', how='right')"
   ]
  },
  {
   "cell_type": "markdown",
   "metadata": {},
   "source": [
    "### Filters"
   ]
  },
  {
   "cell_type": "code",
   "execution_count": null,
   "metadata": {},
   "outputs": [],
   "source": [
    "# filtered down to just these two types of inspections\n",
    "init_ins = nyc[nyc['INSPECTION TYPE'] == \"Cycle Inspection / Initial Inspection\"]\n",
    "re_ins = nyc[nyc['INSPECTION TYPE'] == \"Cycle Inspection / Re-inspection\"]\n",
    "\n",
    "# final cleaned up dataset that I'm going to work with\n",
    "re_ins = re_ins[re_ins['SCORE'] <= 40]"
   ]
  },
  {
   "cell_type": "markdown",
   "metadata": {},
   "source": [
    "# Basic Modelling"
   ]
  },
  {
   "cell_type": "markdown",
   "metadata": {},
   "source": [
    "thank you P! https://www.statsmodels.org/stable/index.html"
   ]
  },
  {
   "cell_type": "code",
   "execution_count": 5,
   "metadata": {},
   "outputs": [
    {
     "data": {
      "text/plain": [
       "(-3.163662110843406, 0.0034775881731400264, 31.0)"
      ]
     },
     "execution_count": 5,
     "metadata": {},
     "output_type": "execute_result"
    }
   ],
   "source": [
    "# statsmodel t-test\n",
    "x_ = (373,398,245,272,238,241,134,410,158,125,198,252,577,272,208,260)\n",
    "y_ = (411,571,320,564,311,590,1563,424,528,544,246,371,680,384,579,303, 500)\n",
    "\n",
    "import statsmodels.api as sm\n",
    "sm.stats.ttest_ind(x_, y_)\n"
   ]
  },
  {
   "cell_type": "code",
   "execution_count": null,
   "metadata": {},
   "outputs": [],
   "source": [
    "# statsmodel for regression"
   ]
  },
  {
   "cell_type": "code",
   "execution_count": null,
   "metadata": {},
   "outputs": [],
   "source": [
    "# Linear mixed effects models\n",
    "# https://www.statsmodels.org/stable/examples/notebooks/generated/mixed_lm_example.html\n",
    "data = sm.datasets.get_rdataset('dietox', 'geepack').data\n",
    "md = smf.mixedlm(\"Weight ~ Time\", data, groups=data[\"Pig\"])\n",
    "mdf = md.fit()\n",
    "print(mdf.summary())\n"
   ]
  },
  {
   "cell_type": "code",
   "execution_count": null,
   "metadata": {},
   "outputs": [],
   "source": []
  },
  {
   "cell_type": "markdown",
   "metadata": {},
   "source": [
    "# Validation"
   ]
  },
  {
   "cell_type": "code",
   "execution_count": null,
   "metadata": {},
   "outputs": [],
   "source": [
    "from sklearn.metrics import classification_report\n",
    "y_true = [0, 1, 2, 2, 2]\n",
    "y_pred = [0, 0, 2, 2, 1]\n",
    "target_names = ['class 0', 'class 1', 'class 2']\n",
    "print(classification_report(y_true, y_pred, target_names=target_names))"
   ]
  },
  {
   "cell_type": "markdown",
   "metadata": {},
   "source": [
    "# Results and Recommendations"
   ]
  },
  {
   "cell_type": "markdown",
   "metadata": {},
   "source": []
  },
  {
   "cell_type": "markdown",
   "metadata": {},
   "source": [
    "# Bonus: Given more time..."
   ]
  },
  {
   "cell_type": "code",
   "execution_count": null,
   "metadata": {},
   "outputs": [],
   "source": []
  }
 ],
 "metadata": {
  "kernelspec": {
   "display_name": "Python 3",
   "language": "python",
   "name": "python3"
  },
  "language_info": {
   "codemirror_mode": {
    "name": "ipython",
    "version": 3
   },
   "file_extension": ".py",
   "mimetype": "text/x-python",
   "name": "python",
   "nbconvert_exporter": "python",
   "pygments_lexer": "ipython3",
   "version": "3.7.3"
  }
 },
 "nbformat": 4,
 "nbformat_minor": 2
}
