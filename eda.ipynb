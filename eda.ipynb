{
 "cells": [
  {
   "cell_type": "markdown",
   "metadata": {},
   "source": [
    "# Most important pandas takeaways\n",
    "\n",
    "Easy access codes\n",
    "\n",
    "### Import the necessary libraries"
   ]
  },
  {
   "cell_type": "code",
   "execution_count": 2,
   "metadata": {},
   "outputs": [],
   "source": [
    "import pandas as pd"
   ]
  },
  {
   "cell_type": "markdown",
   "metadata": {},
   "source": [
    "### Import the data"
   ]
  },
  {
   "cell_type": "code",
   "execution_count": 40,
   "metadata": {},
   "outputs": [],
   "source": [
    "# dataset based on European soccer teams\n",
    "url_euro_teams = 'https://raw.githubusercontent.com/guipsamora/pandas_exercises/master/02_Filtering_%26_Sorting/Euro12/Euro_2012_stats_TEAM.csv'\n",
    "euro_teams = pd.read_csv(url_euro_teams, sep = ',')\n",
    "\n",
    "# dataset based on Chipotle orders\n",
    "url_chipo = 'https://raw.githubusercontent.com/justmarkham/DAT8/master/data/chipotle.tsv'\n",
    "chipo = pd.read_csv(url_chipo, sep = '\\t')\n"
   ]
  },
  {
   "cell_type": "markdown",
   "metadata": {},
   "source": [
    "### Get a feel for what dataset looks like."
   ]
  },
  {
   "cell_type": "code",
   "execution_count": 26,
   "metadata": {},
   "outputs": [
    {
     "name": "stdout",
     "output_type": "stream",
     "text": [
      "Number of rows:  16\n",
      "Number of columns:  35\n",
      "Column names:  Index(['Team', 'Goals', 'Shots on target', 'Shots off target',\n",
      "       'Shooting Accuracy', '% Goals-to-shots', 'Total shots (inc. Blocked)',\n",
      "       'Hit Woodwork', 'Penalty goals', 'Penalties not scored', 'Headed goals',\n",
      "       'Passes', 'Passes completed', 'Passing Accuracy', 'Touches', 'Crosses',\n",
      "       'Dribbles', 'Corners Taken', 'Tackles', 'Clearances', 'Interceptions',\n",
      "       'Clearances off line', 'Clean Sheets', 'Blocks', 'Goals conceded',\n",
      "       'Saves made', 'Saves-to-shots ratio', 'Fouls Won', 'Fouls Conceded',\n",
      "       'Offsides', 'Yellow Cards', 'Red Cards', 'Subs on', 'Subs off',\n",
      "       'Players Used'],\n",
      "      dtype='object')\n",
      "Index method:  RangeIndex(start=0, stop=4622, step=1)\n",
      "Data types for entire dataframe: \n",
      "<class 'pandas.core.frame.DataFrame'>\n",
      "RangeIndex: 16 entries, 0 to 15\n",
      "Data columns (total 35 columns):\n",
      "Team                          16 non-null object\n",
      "Goals                         16 non-null int64\n",
      "Shots on target               16 non-null int64\n",
      "Shots off target              16 non-null int64\n",
      "Shooting Accuracy             16 non-null object\n",
      "% Goals-to-shots              16 non-null object\n",
      "Total shots (inc. Blocked)    16 non-null int64\n",
      "Hit Woodwork                  16 non-null int64\n",
      "Penalty goals                 16 non-null int64\n",
      "Penalties not scored          16 non-null int64\n",
      "Headed goals                  16 non-null int64\n",
      "Passes                        16 non-null int64\n",
      "Passes completed              16 non-null int64\n",
      "Passing Accuracy              16 non-null object\n",
      "Touches                       16 non-null int64\n",
      "Crosses                       16 non-null int64\n",
      "Dribbles                      16 non-null int64\n",
      "Corners Taken                 16 non-null int64\n",
      "Tackles                       16 non-null int64\n",
      "Clearances                    16 non-null int64\n",
      "Interceptions                 16 non-null int64\n",
      "Clearances off line           15 non-null float64\n",
      "Clean Sheets                  16 non-null int64\n",
      "Blocks                        16 non-null int64\n",
      "Goals conceded                16 non-null int64\n",
      "Saves made                    16 non-null int64\n",
      "Saves-to-shots ratio          16 non-null object\n",
      "Fouls Won                     16 non-null int64\n",
      "Fouls Conceded                16 non-null int64\n",
      "Offsides                      16 non-null int64\n",
      "Yellow Cards                  16 non-null int64\n",
      "Red Cards                     16 non-null int64\n",
      "Subs on                       16 non-null int64\n",
      "Subs off                      16 non-null int64\n",
      "Players Used                  16 non-null int64\n",
      "dtypes: float64(1), int64(29), object(5)\n",
      "memory usage: 4.5+ KB\n",
      "Data type of Goals column specifically is:  int64\n"
     ]
    }
   ],
   "source": [
    "# assign which dataset we're looking at\n",
    "test_data = euro_teams\n",
    "\n",
    "# See first 10 entries\n",
    "test_data.head()\n",
    "\n",
    "# Row count\n",
    "rows = test_data.shape[0]\n",
    "print(\"Number of rows: \", str(rows))\n",
    "\n",
    "# Column count\n",
    "columns = test_data.shape[1]\n",
    "print(\"Number of columns: \", str(columns))\n",
    "\n",
    "# Column names\n",
    "print(\"Column names: \", str(test_data.columns))\n",
    "\n",
    "# Indexing method\n",
    "print(\"Index method: \", str(chipo.index))\n",
    "\n",
    "# Data types of all columns\n",
    "print(\"Data types for entire dataframe: \")\n",
    "test_data.info()\n",
    "\n",
    "# Data type of particular column\n",
    "print(\"Data type of Goals column specifically is: \", str(euro_teams.Goals.dtype))\n"
   ]
  },
  {
   "cell_type": "markdown",
   "metadata": {},
   "source": [
    "### Get summaries on certain columns of interest"
   ]
  },
  {
   "cell_type": "code",
   "execution_count": 30,
   "metadata": {},
   "outputs": [
    {
     "name": "stdout",
     "output_type": "stream",
     "text": [
      "The most frequently order item was: \n",
      "              order_id  quantity\n",
      "item_name                       \n",
      "Chicken Bowl    713926       761\n",
      "\n",
      "The most frequently ordered subchoice was: \n",
      "                    order_id  quantity\n",
      "choice_description                    \n",
      "[Diet Coke]           123455       159\n",
      "\n",
      "The sum of the quanitity column is:  4972\n"
     ]
    }
   ],
   "source": [
    "# The most frequently ordered item in general\n",
    "c = chipo.groupby('item_name')\n",
    "c = c.sum()\n",
    "c = c.sort_values(['quantity'], ascending=False)\n",
    "print(\"The most frequently order item was: \")\n",
    "print (c.head(1))\n",
    "\n",
    "# The most frequently ordered subchoice:\n",
    "c = chipo.groupby('choice_description').sum()\n",
    "c = c.sort_values(['quantity'], ascending=False)\n",
    "print(\"\\nThe most frequently ordered subchoice was: \")\n",
    "print (c.head(1))\n",
    "\n",
    "# Can summarize one column this way\n",
    "total_items_orders = chipo.quantity.sum()\n",
    "print(\"\\nThe sum of the quanitity column is: \", str(total_items_orders))"
   ]
  },
  {
   "cell_type": "markdown",
   "metadata": {},
   "source": [
    "### Lambda functions"
   ]
  },
  {
   "cell_type": "code",
   "execution_count": 43,
   "metadata": {},
   "outputs": [
    {
     "name": "stdout",
     "output_type": "stream",
     "text": [
      "Item price before being dollarized: \n",
      " 0    $2.39 \n",
      "1    $3.39 \n",
      "2    $3.39 \n",
      "3    $2.39 \n",
      "Name: item_price, dtype: object\n",
      "\n",
      " Item price after being dollarized: \n",
      " 0    2.39\n",
      "1    3.39\n",
      "2    3.39\n",
      "3    2.39\n",
      "Name: item_price2, dtype: float64\n"
     ]
    }
   ],
   "source": [
    "# Tiny function that gets rid of '$' and turns str into a float\n",
    "dollarizer = lambda x: float(x[1:-1])\n",
    "\n",
    "print (\"Item price before being dollarized: \\n\", str(chipo.item_price[:4]))\n",
    "chipo = chipo.assign(item_price2 = chipo.item_price.apply(dollarizer))\n",
    "print (\"\\n Item price after being dollarized: \\n\", str(chipo.item_price2[:4]))"
   ]
  },
  {
   "cell_type": "code",
   "execution_count": null,
   "metadata": {},
   "outputs": [],
   "source": []
  },
  {
   "cell_type": "code",
   "execution_count": null,
   "metadata": {},
   "outputs": [],
   "source": []
  }
 ],
 "metadata": {
  "kernelspec": {
   "display_name": "Python 3",
   "language": "python",
   "name": "python3"
  },
  "language_info": {
   "codemirror_mode": {
    "name": "ipython",
    "version": 3
   },
   "file_extension": ".py",
   "mimetype": "text/x-python",
   "name": "python",
   "nbconvert_exporter": "python",
   "pygments_lexer": "ipython3",
   "version": "3.7.1"
  }
 },
 "nbformat": 4,
 "nbformat_minor": 2
}
