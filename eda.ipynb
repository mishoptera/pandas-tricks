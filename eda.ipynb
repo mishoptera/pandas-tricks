{
 "cells": [
  {
   "cell_type": "markdown",
   "metadata": {},
   "source": [
    "# my pandas cheatsheet\n",
    "\n",
    "Easy access codes\n",
    "\n",
    "### Import the necessary libraries"
   ]
  },
  {
   "cell_type": "code",
   "execution_count": null,
   "metadata": {},
   "outputs": [],
   "source": [
    "import pandas as pd"
   ]
  },
  {
   "cell_type": "markdown",
   "metadata": {},
   "source": [
    "### Import the data"
   ]
  },
  {
   "cell_type": "code",
   "execution_count": null,
   "metadata": {},
   "outputs": [],
   "source": [
    "# dataset based on European soccer teams\n",
    "url_euro_teams = 'https://raw.githubusercontent.com/guipsamora/pandas_exercises/master/02_Filtering_%26_Sorting/Euro12/Euro_2012_stats_TEAM.csv'\n",
    "euro_teams = pd.read_csv(url_euro_teams, sep = ',')\n",
    "\n",
    "# dataset based on Chipotle orders\n",
    "url_chipo = 'https://raw.githubusercontent.com/justmarkham/DAT8/master/data/chipotle.tsv'\n",
    "chipo = pd.read_csv(url_chipo, sep = '\\t')\n"
   ]
  },
  {
   "cell_type": "markdown",
   "metadata": {},
   "source": [
    "### Get a feel for what dataset looks like."
   ]
  },
  {
   "cell_type": "code",
   "execution_count": 26,
   "metadata": {},
   "outputs": [
    {
     "name": "stdout",
     "output_type": "stream",
     "text": [
      "Number of rows:  16\n",
      "Number of columns:  35\n",
      "Column names:  Index(['Team', 'Goals', 'Shots on target', 'Shots off target',\n",
      "       'Shooting Accuracy', '% Goals-to-shots', 'Total shots (inc. Blocked)',\n",
      "       'Hit Woodwork', 'Penalty goals', 'Penalties not scored', 'Headed goals',\n",
      "       'Passes', 'Passes completed', 'Passing Accuracy', 'Touches', 'Crosses',\n",
      "       'Dribbles', 'Corners Taken', 'Tackles', 'Clearances', 'Interceptions',\n",
      "       'Clearances off line', 'Clean Sheets', 'Blocks', 'Goals conceded',\n",
      "       'Saves made', 'Saves-to-shots ratio', 'Fouls Won', 'Fouls Conceded',\n",
      "       'Offsides', 'Yellow Cards', 'Red Cards', 'Subs on', 'Subs off',\n",
      "       'Players Used'],\n",
      "      dtype='object')\n",
      "Index method:  RangeIndex(start=0, stop=4622, step=1)\n",
      "Data types for entire dataframe: \n",
      "<class 'pandas.core.frame.DataFrame'>\n",
      "RangeIndex: 16 entries, 0 to 15\n",
      "Data columns (total 35 columns):\n",
      "Team                          16 non-null object\n",
      "Goals                         16 non-null int64\n",
      "Shots on target               16 non-null int64\n",
      "Shots off target              16 non-null int64\n",
      "Shooting Accuracy             16 non-null object\n",
      "% Goals-to-shots              16 non-null object\n",
      "Total shots (inc. Blocked)    16 non-null int64\n",
      "Hit Woodwork                  16 non-null int64\n",
      "Penalty goals                 16 non-null int64\n",
      "Penalties not scored          16 non-null int64\n",
      "Headed goals                  16 non-null int64\n",
      "Passes                        16 non-null int64\n",
      "Passes completed              16 non-null int64\n",
      "Passing Accuracy              16 non-null object\n",
      "Touches                       16 non-null int64\n",
      "Crosses                       16 non-null int64\n",
      "Dribbles                      16 non-null int64\n",
      "Corners Taken                 16 non-null int64\n",
      "Tackles                       16 non-null int64\n",
      "Clearances                    16 non-null int64\n",
      "Interceptions                 16 non-null int64\n",
      "Clearances off line           15 non-null float64\n",
      "Clean Sheets                  16 non-null int64\n",
      "Blocks                        16 non-null int64\n",
      "Goals conceded                16 non-null int64\n",
      "Saves made                    16 non-null int64\n",
      "Saves-to-shots ratio          16 non-null object\n",
      "Fouls Won                     16 non-null int64\n",
      "Fouls Conceded                16 non-null int64\n",
      "Offsides                      16 non-null int64\n",
      "Yellow Cards                  16 non-null int64\n",
      "Red Cards                     16 non-null int64\n",
      "Subs on                       16 non-null int64\n",
      "Subs off                      16 non-null int64\n",
      "Players Used                  16 non-null int64\n",
      "dtypes: float64(1), int64(29), object(5)\n",
      "memory usage: 4.5+ KB\n",
      "Data type of Goals column specifically is:  int64\n"
     ]
    }
   ],
   "source": [
    "# assign which dataset we're looking at\n",
    "test_data = euro_teams\n",
    "\n",
    "# See first 10 entries\n",
    "test_data.head()\n",
    "\n",
    "# Row count\n",
    "rows = test_data.shape[0]\n",
    "print(\"Number of rows: \", str(rows))\n",
    "\n",
    "# Column count\n",
    "columns = test_data.shape[1]\n",
    "print(\"Number of columns: \", str(columns))\n",
    "\n",
    "# Column names\n",
    "print(\"Column names: \", str(test_data.columns))\n",
    "\n",
    "# Indexing method\n",
    "print(\"Index method: \", str(chipo.index))\n",
    "\n",
    "# Data types of all columns\n",
    "print(\"Data types for entire dataframe: \")\n",
    "test_data.info()\n",
    "\n",
    "# Data type of particular column\n",
    "print(\"Data type of Goals column specifically is: \", str(euro_teams.Goals.dtype))\n"
   ]
  },
  {
   "cell_type": "markdown",
   "metadata": {},
   "source": [
    "### Get summaries on certain columns of interest"
   ]
  },
  {
   "cell_type": "code",
   "execution_count": 126,
   "metadata": {},
   "outputs": [
    {
     "data": {
      "text/html": [
       "<div>\n",
       "<style scoped>\n",
       "    .dataframe tbody tr th:only-of-type {\n",
       "        vertical-align: middle;\n",
       "    }\n",
       "\n",
       "    .dataframe tbody tr th {\n",
       "        vertical-align: top;\n",
       "    }\n",
       "\n",
       "    .dataframe thead th {\n",
       "        text-align: right;\n",
       "    }\n",
       "</style>\n",
       "<table border=\"1\" class=\"dataframe\">\n",
       "  <thead>\n",
       "    <tr style=\"text-align: right;\">\n",
       "      <th></th>\n",
       "      <th>order_id</th>\n",
       "      <th>quantity</th>\n",
       "      <th>item_name</th>\n",
       "      <th>choice_description</th>\n",
       "      <th>item_price</th>\n",
       "      <th>item_price2</th>\n",
       "    </tr>\n",
       "  </thead>\n",
       "  <tbody>\n",
       "    <tr>\n",
       "      <th>0</th>\n",
       "      <td>1</td>\n",
       "      <td>1</td>\n",
       "      <td>Chips and Fresh Tomato Salsa</td>\n",
       "      <td>NaN</td>\n",
       "      <td>$2.39</td>\n",
       "      <td>2.39</td>\n",
       "    </tr>\n",
       "    <tr>\n",
       "      <th>1</th>\n",
       "      <td>1</td>\n",
       "      <td>1</td>\n",
       "      <td>Izze</td>\n",
       "      <td>[Clementine]</td>\n",
       "      <td>$3.39</td>\n",
       "      <td>3.39</td>\n",
       "    </tr>\n",
       "    <tr>\n",
       "      <th>2</th>\n",
       "      <td>1</td>\n",
       "      <td>1</td>\n",
       "      <td>Nantucket Nectar</td>\n",
       "      <td>[Apple]</td>\n",
       "      <td>$3.39</td>\n",
       "      <td>3.39</td>\n",
       "    </tr>\n",
       "    <tr>\n",
       "      <th>3</th>\n",
       "      <td>1</td>\n",
       "      <td>1</td>\n",
       "      <td>Chips and Tomatillo-Green Chili Salsa</td>\n",
       "      <td>NaN</td>\n",
       "      <td>$2.39</td>\n",
       "      <td>2.39</td>\n",
       "    </tr>\n",
       "    <tr>\n",
       "      <th>4</th>\n",
       "      <td>2</td>\n",
       "      <td>2</td>\n",
       "      <td>Chicken Bowl</td>\n",
       "      <td>[Tomatillo-Red Chili Salsa (Hot), [Black Beans...</td>\n",
       "      <td>$16.98</td>\n",
       "      <td>16.98</td>\n",
       "    </tr>\n",
       "  </tbody>\n",
       "</table>\n",
       "</div>"
      ],
      "text/plain": [
       "   order_id  quantity                              item_name  \\\n",
       "0         1         1           Chips and Fresh Tomato Salsa   \n",
       "1         1         1                                   Izze   \n",
       "2         1         1                       Nantucket Nectar   \n",
       "3         1         1  Chips and Tomatillo-Green Chili Salsa   \n",
       "4         2         2                           Chicken Bowl   \n",
       "\n",
       "                                  choice_description item_price  item_price2  \n",
       "0                                                NaN     $2.39          2.39  \n",
       "1                                       [Clementine]     $3.39          3.39  \n",
       "2                                            [Apple]     $3.39          3.39  \n",
       "3                                                NaN     $2.39          2.39  \n",
       "4  [Tomatillo-Red Chili Salsa (Hot), [Black Beans...    $16.98         16.98  "
      ]
     },
     "execution_count": 126,
     "metadata": {},
     "output_type": "execute_result"
    }
   ],
   "source": [
    "chipo.head()"
   ]
  },
  {
   "cell_type": "markdown",
   "metadata": {},
   "source": [
    "### Get descriptive stats on one column in particular"
   ]
  },
  {
   "cell_type": "code",
   "execution_count": 135,
   "metadata": {},
   "outputs": [
    {
     "data": {
      "text/plain": [
       "count    4622.000000\n",
       "mean        1.075725\n",
       "std         0.410186\n",
       "min         1.000000\n",
       "25%         1.000000\n",
       "50%         1.000000\n",
       "75%         1.000000\n",
       "max        15.000000\n",
       "Name: quantity, dtype: float64"
      ]
     },
     "execution_count": 135,
     "metadata": {},
     "output_type": "execute_result"
    }
   ],
   "source": [
    "# column of interest is 'quantity' in the chipo dataset\n",
    "chipo.quantity.describe()"
   ]
  },
  {
   "cell_type": "code",
   "execution_count": 67,
   "metadata": {},
   "outputs": [
    {
     "name": "stdout",
     "output_type": "stream",
     "text": [
      "The most frequently order item was: \n",
      "                     order_id  quantity  item_price2\n",
      "item_name                                           \n",
      "Chicken Bowl           713926       761      7342.73\n",
      "Chicken Burrito        497303       591      5575.82\n",
      "Chips and Guacamole    449959       506      2201.04\n",
      "Steak Burrito          328437       386      3851.43\n",
      "Canned Soft Drink      304753       351       438.75\n",
      "Chips                  208004       230       494.34\n",
      "\n",
      "The most frequently ordered subchoice was: \n",
      "                                                    order_id  quantity  \\\n",
      "choice_description                                                       \n",
      "[Diet Coke]                                           123455       159   \n",
      "[Coke]                                                122752       143   \n",
      "[Sprite]                                               80426        89   \n",
      "[Fresh Tomato Salsa, [Rice, Black Beans, Cheese...     43088        49   \n",
      "[Fresh Tomato Salsa, [Rice, Black Beans, Cheese...     36041        42   \n",
      "[Fresh Tomato Salsa, [Rice, Black Beans, Cheese...     37550        40   \n",
      "\n",
      "                                                    item_price2  \n",
      "choice_description                                               \n",
      "[Diet Coke]                                              326.71  \n",
      "[Coke]                                                   288.79  \n",
      "[Sprite]                                                 133.93  \n",
      "[Fresh Tomato Salsa, [Rice, Black Beans, Cheese...       432.25  \n",
      "[Fresh Tomato Salsa, [Rice, Black Beans, Cheese...       372.64  \n",
      "[Fresh Tomato Salsa, [Rice, Black Beans, Cheese...       455.50  \n",
      "\n",
      "The sum of the quanitity column is:  4972\n"
     ]
    }
   ],
   "source": [
    "# The most frequently ordered item in general\n",
    "c = chipo.groupby('item_name')\n",
    "c = c.sum()\n",
    "c = c.sort_values(['quantity'], ascending=False)\n",
    "print(\"The most frequently order item was: \")\n",
    "print (c.head(6))\n",
    "\n",
    "# The most frequently ordered subchoice:\n",
    "c = chipo.groupby('choice_description').sum()\n",
    "c = c.sort_values(['quantity'], ascending=False)\n",
    "print(\"\\nThe most frequently ordered subchoice was: \")\n",
    "print (c.head(6))\n",
    "\n",
    "# Can summarize one column this way\n",
    "total_items_orders = chipo.quantity.sum()\n",
    "print(\"\\nThe sum of the quanitity column is: \", str(total_items_orders))"
   ]
  },
  {
   "cell_type": "markdown",
   "metadata": {},
   "source": [
    "### Lambda functions"
   ]
  },
  {
   "cell_type": "code",
   "execution_count": 43,
   "metadata": {},
   "outputs": [
    {
     "name": "stdout",
     "output_type": "stream",
     "text": [
      "Item price before being dollarized: \n",
      " 0    $2.39 \n",
      "1    $3.39 \n",
      "2    $3.39 \n",
      "3    $2.39 \n",
      "Name: item_price, dtype: object\n",
      "\n",
      " Item price after being dollarized: \n",
      " 0    2.39\n",
      "1    3.39\n",
      "2    3.39\n",
      "3    2.39\n",
      "Name: item_price2, dtype: float64\n"
     ]
    }
   ],
   "source": [
    "# Tiny function that gets rid of '$' and turns str into a float\n",
    "dollarizer = lambda x: float(x[1:-1])\n",
    "\n",
    "print (\"Item price before being dollarized: \\n\", str(chipo.item_price[:4]))\n",
    "chipo = chipo.assign(item_price2 = chipo.item_price.apply(dollarizer))\n",
    "print (\"\\n Item price after being dollarized: \\n\", str(chipo.item_price2[:4]))"
   ]
  },
  {
   "cell_type": "markdown",
   "metadata": {},
   "source": [
    "### Unique values in a column"
   ]
  },
  {
   "cell_type": "code",
   "execution_count": 53,
   "metadata": {},
   "outputs": [
    {
     "name": "stdout",
     "output_type": "stream",
     "text": [
      "Number of teams:  16\n"
     ]
    }
   ],
   "source": [
    "# How many different teams are there?\n",
    "euro_teams['Team'].nunique()\n",
    "\n",
    "# same thing\n",
    "print(\"Number of teams: \", str(euro_teams.Team.nunique()))"
   ]
  },
  {
   "cell_type": "markdown",
   "metadata": {},
   "source": [
    "### View only certain columns and rows"
   ]
  },
  {
   "cell_type": "code",
   "execution_count": 97,
   "metadata": {},
   "outputs": [
    {
     "name": "stdout",
     "output_type": "stream",
     "text": [
      "Selected columns only: \n",
      "                   Team  Yellow Cards  Red Cards  Goals\n",
      "0               Croatia             9          0      4\n",
      "1        Czech Republic             7          0      4\n",
      "2               Denmark             4          0      4\n",
      "3               England             5          0      5\n",
      "4                France             6          0      3\n",
      "5               Germany             4          0     10\n",
      "6                Greece             9          1      5\n",
      "7                 Italy            16          0      6\n",
      "8           Netherlands             5          0      2\n",
      "9                Poland             7          1      2\n",
      "10             Portugal            12          0      6\n",
      "11  Republic of Ireland             6          1      1\n",
      "12               Russia             6          0      5\n",
      "13                Spain            11          0     12\n",
      "14               Sweden             7          0      5\n",
      "15              Ukraine             5          0      2\n",
      "\n",
      "Subset of rows: \n",
      "      Team  Yellow Cards  Red Cards  Goals\n",
      "3  England             5          0      5\n",
      "4   France             6          0      3\n",
      "5  Germany             4          0     10\n",
      "6   Greece             9          1      5\n"
     ]
    }
   ],
   "source": [
    "# filter only giving the column names\n",
    "discipline = euro_teams[['Team', 'Yellow Cards', 'Red Cards', 'Goals']]\n",
    "print(\"Selected columns only: \")\n",
    "print(discipline)\n",
    "\n",
    "# filter to certain rows\n",
    "discipline_shortlist = discipline[3:7]\n",
    "print(\"\\nSubset of rows: \")\n",
    "print(discipline_shortlist)\n"
   ]
  },
  {
   "cell_type": "markdown",
   "metadata": {},
   "source": [
    "### Sort and filter tricks"
   ]
  },
  {
   "cell_type": "code",
   "execution_count": 100,
   "metadata": {},
   "outputs": [
    {
     "name": "stdout",
     "output_type": "stream",
     "text": [
      "The rounded mean # of yellow cards is:  7\n",
      "\n",
      "The red card - yellow card - goals sorted set is:\n",
      "                   Team  Yellow Cards  Red Cards  Goals\n",
      "6                Greece             9          1      5\n",
      "9                Poland             7          1      2\n",
      "11  Republic of Ireland             6          1      1\n",
      "7                 Italy            16          0      6\n",
      "10             Portugal            12          0      6\n",
      "13                Spain            11          0     12\n",
      "0               Croatia             9          0      4\n",
      "14               Sweden             7          0      5\n",
      "1        Czech Republic             7          0      4\n",
      "12               Russia             6          0      5\n",
      "4                France             6          0      3\n",
      "3               England             5          0      5\n",
      "8           Netherlands             5          0      2\n",
      "15              Ukraine             5          0      2\n",
      "5               Germany             4          0     10\n",
      "2               Denmark             4          0      4\n",
      "\n",
      "A subset of only the teams with a minimum 7 goals: \n",
      "       Team  Yellow Cards  Red Cards  Goals\n",
      "5   Germany             4          0     10\n",
      "13    Spain            11          0     12\n",
      "\n",
      "Only those teams that begin with the letter C\n",
      "             Team  Yellow Cards  Red Cards  Goals\n",
      "0         Croatia             9          0      4\n",
      "1  Czech Republic             7          0      4\n"
     ]
    }
   ],
   "source": [
    "# discipline is a shorter version of euro_teams\n",
    "\n",
    "# Round and take the mean\n",
    "print(\"The rounded mean # of yellow cards is: \", str(round(discipline['Yellow Cards'].mean())))\n",
    "\n",
    "# Sort based on multiple values (first red cards and then by yellow cards)\n",
    "print('\\nThe red card - yellow card - goals sorted set is:')\n",
    "print(discipline.sort_values(['Red Cards', 'Yellow Cards', 'Goals'], ascending = False))\n",
    "\n",
    "# Filter based on number of goals scored\n",
    "print('\\nA subset of only the teams with a minimum 7 goals: ')\n",
    "print(discipline[discipline.Goals > 6])\n",
    "\n",
    "# Filter based on team name strings\n",
    "print('\\nOnly those teams that begin with the letter C')\n",
    "print(discipline[discipline.Team.str.startswith('C')])\n",
    "                    "
   ]
  },
  {
   "cell_type": "markdown",
   "metadata": {},
   "source": [
    "### Accessing subsets of the data based on location with iloc and loc functions"
   ]
  },
  {
   "cell_type": "code",
   "execution_count": 125,
   "metadata": {},
   "outputs": [
    {
     "name": "stdout",
     "output_type": "stream",
     "text": [
      "All teams/rows, but only 3 columns in the middle:\n",
      "   Shooting Accuracy % Goals-to-shots  Total shots (inc. Blocked)\n",
      "0              51.9%            16.0%                          32\n",
      "1              41.9%            12.9%                          39\n",
      "2              50.0%            20.0%                          27\n",
      "3              50.0%            17.2%                          40\n",
      "4              37.9%             6.5%                          65\n",
      "5              47.8%            15.6%                          80\n",
      "6              30.7%            19.2%                          32\n",
      "7              43.0%             7.5%                         110\n",
      "8              25.0%             4.1%                          60\n",
      "9              39.4%             5.2%                          48\n",
      "10             34.3%             9.3%                          82\n",
      "11             36.8%             5.2%                          28\n",
      "12             22.5%            12.5%                          59\n",
      "13             55.9%            16.0%                         100\n",
      "14             47.2%            13.8%                          39\n",
      "15             21.2%             6.0%                          38\n",
      "\n",
      "Only the last 8 teams, and only the last 3 columns:\n",
      "   Subs on  Subs off  Players Used\n",
      "0        9         9            16\n",
      "1       11        11            19\n",
      "2        7         7            15\n",
      "3       11        11            16\n",
      "4       11        11            19\n",
      "5       15        15            17\n",
      "6       12        12            20\n",
      "7       18        18            19\n",
      "\n",
      "Only certain teams and certain columns specified by name:\n",
      "       Team Shooting Accuracy\n",
      "3   England             50.0%\n",
      "7     Italy             43.0%\n",
      "12   Russia             22.5%\n",
      "\n",
      "Mixing it up: \n"
     ]
    },
    {
     "data": {
      "text/html": [
       "<div>\n",
       "<style scoped>\n",
       "    .dataframe tbody tr th:only-of-type {\n",
       "        vertical-align: middle;\n",
       "    }\n",
       "\n",
       "    .dataframe tbody tr th {\n",
       "        vertical-align: top;\n",
       "    }\n",
       "\n",
       "    .dataframe thead th {\n",
       "        text-align: right;\n",
       "    }\n",
       "</style>\n",
       "<table border=\"1\" class=\"dataframe\">\n",
       "  <thead>\n",
       "    <tr style=\"text-align: right;\">\n",
       "      <th></th>\n",
       "      <th>% Goals-to-shots</th>\n",
       "    </tr>\n",
       "  </thead>\n",
       "  <tbody>\n",
       "    <tr>\n",
       "      <th>0</th>\n",
       "      <td>16.0%</td>\n",
       "    </tr>\n",
       "  </tbody>\n",
       "</table>\n",
       "</div>"
      ],
      "text/plain": [
       "  % Goals-to-shots\n",
       "0            16.0%"
      ]
     },
     "execution_count": 125,
     "metadata": {},
     "output_type": "execute_result"
    }
   ],
   "source": [
    "# use .iloc to slices via the position of the passed integers\n",
    "# : means all, 0:7 means from 0 to 7\n",
    "print(\"All teams/rows, but only 3 columns in the middle:\")\n",
    "print(euro_teams.iloc[: , 4:7])\n",
    "\n",
    "# use negative to exclude the last 3 columns\n",
    "print(\"\\nOnly the last 8 teams, and only the last 3 columns:\")\n",
    "print(euro_teams.iloc[:-8, -3:])\n",
    "\n",
    "# .loc is another way to slice, using the labels of the columns and indexes\n",
    "print(\"\\nOnly certain teams and certain columns specified by name:\")\n",
    "print(euro_teams.loc[euro_teams.Team.isin(['England', 'Italy', 'Russia']), ['Team','Shooting Accuracy']])\n",
    "\n",
    "# Get location of a certain cell when having a mix of names and indexed locations\n",
    "print(\"\\nMixing it up: \")\n",
    "col_name = euro_teams.columns[5]\n",
    "euro_teams.loc[euro_teams.Team.isin(['Croatia']), [col_name]]"
   ]
  },
  {
   "cell_type": "markdown",
   "metadata": {},
   "source": [
    "### A chain of tidying to group, get means, and then sort"
   ]
  },
  {
   "cell_type": "code",
   "execution_count": 130,
   "metadata": {},
   "outputs": [
    {
     "name": "stdout",
     "output_type": "stream",
     "text": [
      "Here are average number of wine servings by continent: \n",
      "continent\n",
      "EU    193.777778\n",
      "SA    175.083333\n",
      "OC     89.687500\n",
      "AF     61.471698\n",
      "AS     37.045455\n",
      "Name: beer_servings, dtype: float64\n",
      "\n",
      "Here are the stats on wine servings by continent\n",
      "           count        mean        std  min   25%    50%     75%    max\n",
      "continent                                                               \n",
      "AF          53.0   16.264151  38.846419  0.0   1.0    2.0   13.00  233.0\n",
      "AS          44.0    9.068182  21.667034  0.0   0.0    1.0    8.00  123.0\n",
      "EU          45.0  142.222222  97.421738  0.0  59.0  128.0  195.00  370.0\n",
      "OC          16.0   35.625000  64.555790  0.0   1.0    8.5   23.25  212.0\n",
      "SA          12.0   62.416667  88.620189  1.0   3.0   12.0   98.50  221.0\n",
      "\n",
      "Here are a bunch of stats aggregated bout spirit servings: \n",
      "                 mean  median  min  max\n",
      "continent                              \n",
      "AF          16.339623     3.0    0  152\n",
      "AS          60.840909    16.0    0  326\n",
      "EU         132.555556   122.0    0  373\n",
      "OC          58.437500    37.0    0  254\n",
      "SA         114.750000   108.5   25  302\n"
     ]
    }
   ],
   "source": [
    "url = 'https://raw.githubusercontent.com/justmarkham/DAT8/master/data/drinks.csv'\n",
    "drinks = pd.read_csv(url, sep = ',')\n",
    "\n",
    "# A chain to sort values based on beer serving averages by continent\n",
    "print('Here are average number of wine servings by continent: ')\n",
    "print(drinks.groupby('continent').beer_servings.mean().sort_values(ascending=False))\n",
    "\n",
    "# A chain to get wine stats by continent\n",
    "print('\\nHere are the stats on wine servings by continent')\n",
    "print(drinks.groupby('continent').wine_servings.describe())\n",
    "\n",
    "# A chain to get multiple stats on a given column in one dataframe\n",
    "print('\\nHere are a bunch of stats aggregated bout spirit servings: ')\n",
    "print(drinks.groupby('continent').spirit_servings.agg(['mean', 'median', 'min', 'max']))"
   ]
  },
  {
   "cell_type": "markdown",
   "metadata": {},
   "source": [
    "### Eliminate hierachical indexing with 'unstack'"
   ]
  },
  {
   "cell_type": "code",
   "execution_count": 136,
   "metadata": {},
   "outputs": [
    {
     "name": "stdout",
     "output_type": "stream",
     "text": [
      "Normal way: \n",
      "regiment    company\n",
      "Dragoons    1st         3.5\n",
      "            2nd        27.5\n",
      "Nighthawks  1st        14.0\n",
      "            2nd        16.5\n",
      "Scouts      1st         2.5\n",
      "            2nd         2.5\n",
      "Name: preTestScore, dtype: float64\n",
      "\n",
      "Unstacked: \n",
      "company      1st   2nd\n",
      "regiment              \n",
      "Dragoons     3.5  27.5\n",
      "Nighthawks  14.0  16.5\n",
      "Scouts       2.5   2.5\n",
      "\n",
      " number of observations per regiment/company: \n",
      "regiment    company\n",
      "Dragoons    1st        2\n",
      "            2nd        2\n",
      "Nighthawks  1st        2\n",
      "            2nd        2\n",
      "Scouts      1st        2\n",
      "            2nd        2\n",
      "dtype: int64\n"
     ]
    }
   ],
   "source": [
    "# Data\n",
    "raw_data = {'regiment': ['Nighthawks', 'Nighthawks', 'Nighthawks', 'Nighthawks', 'Dragoons', 'Dragoons', 'Dragoons', 'Dragoons', 'Scouts', 'Scouts', 'Scouts', 'Scouts'], \n",
    "        'company': ['1st', '1st', '2nd', '2nd', '1st', '1st', '2nd', '2nd','1st', '1st', '2nd', '2nd'], \n",
    "        'name': ['Miller', 'Jacobson', 'Ali', 'Milner', 'Cooze', 'Jacon', 'Ryaner', 'Sone', 'Sloan', 'Piger', 'Riani', 'Ali'], \n",
    "        'preTestScore': [4, 24, 31, 2, 3, 4, 24, 31, 2, 3, 2, 3],\n",
    "        'postTestScore': [25, 94, 57, 62, 70, 25, 94, 57, 62, 70, 62, 70]}\n",
    "regiment = pd.DataFrame(raw_data, columns = raw_data.keys())\n",
    "\n",
    "# Normal indexing\n",
    "print('Normal way: ')\n",
    "print(regiment.groupby(['regiment', 'company']).preTestScore.mean())\n",
    "\n",
    "# Print getting rid of that\n",
    "print('\\nUnstacked: ')\n",
    "print(regiment.groupby(['regiment', 'company']).preTestScore.mean().unstack())\n",
    "\n",
    "# Number of observations overall\n",
    "print('\\n number of observations per regiment/company: ')\n",
    "print(regiment.groupby(['regiment', 'company']).size())"
   ]
  },
  {
   "cell_type": "markdown",
   "metadata": {},
   "source": [
    "### Random tricks that should probably be organized elsewhere"
   ]
  },
  {
   "cell_type": "code",
   "execution_count": 1,
   "metadata": {},
   "outputs": [
    {
     "name": "stdout",
     "output_type": "stream",
     "text": [
      "This is typically int rounding down:  4\n",
      "This is how you get in to round up:  5\n"
     ]
    }
   ],
   "source": [
    "# When wanting to round up an int here's a nice trick I discovered that takes advantage of\n",
    "# the fact the True = 1, and False = 0\n",
    "\n",
    "round_typical = int(21 / 5)\n",
    "print(\"This is typically int rounding down: \", str(round_typical))\n",
    "\n",
    "round_up = int(21 / 5) + (21 % 5 > 0)\n",
    "print(\"This is how you get in to round up: \", str(round_up))\n"
   ]
  },
  {
   "cell_type": "code",
   "execution_count": null,
   "metadata": {},
   "outputs": [],
   "source": []
  }
 ],
 "metadata": {
  "kernelspec": {
   "display_name": "Python 3",
   "language": "python",
   "name": "python3"
  },
  "language_info": {
   "codemirror_mode": {
    "name": "ipython",
    "version": 3
   },
   "file_extension": ".py",
   "mimetype": "text/x-python",
   "name": "python",
   "nbconvert_exporter": "python",
   "pygments_lexer": "ipython3",
   "version": "3.7.3"
  }
 },
 "nbformat": 4,
 "nbformat_minor": 2
}
